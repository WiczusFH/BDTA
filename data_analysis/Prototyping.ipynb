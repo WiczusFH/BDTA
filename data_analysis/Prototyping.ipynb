{
 "cells": [
  {
   "cell_type": "code",
   "execution_count": 71,
   "metadata": {
    "collapsed": true
   },
   "outputs": [
    {
     "name": "stderr",
     "output_type": "stream",
     "text": [
      "All model checkpoint layers were used when initializing TFXLMRobertaForSequenceClassification.\n",
      "\n",
      "All the layers of TFXLMRobertaForSequenceClassification were initialized from the model checkpoint at cardiffnlp/twitter-xlm-roberta-base-sentiment.\n",
      "If your task is similar to the task the model of the checkpoint was trained on, you can already use TFXLMRobertaForSequenceClassification for predictions without further training.\n"
     ]
    }
   ],
   "source": [
    "from transformers import TFAutoModelForSequenceClassification\n",
    "from transformers import AutoTokenizer, AutoConfig\n",
    "import numpy as np\n",
    "\n",
    "MODEL = \"cardiffnlp/twitter-xlm-roberta-base-sentiment\"\n",
    "tokenizer = AutoTokenizer.from_pretrained(MODEL)\n",
    "config = AutoConfig.from_pretrained(MODEL)\n",
    "model = TFAutoModelForSequenceClassification.from_pretrained(MODEL)"
   ]
  },
  {
   "cell_type": "code",
   "execution_count": 110,
   "outputs": [
    {
     "data": {
      "text/plain": "[([-1.821001648902893, 0.8904606103897095, 0.6783680319786072], 123),\n ([-1.821001648902893, 0.8904606103897095, 0.6783680319786072], 123),\n ([-1.821001648902893, 0.8904606103897095, 0.6783680319786072], 123),\n ([-1.821001648902893, 0.8904606103897095, 0.6783680319786072], 123),\n ([-1.821001648902893, 0.8904606103897095, 0.6783680319786072], 123),\n ([-1.821001648902893, 0.8904606103897095, 0.6783680319786072], 123),\n ([-1.821001648902893, 0.8904606103897095, 0.6783680319786072], 123),\n ([-1.821001648902893, 0.8904606103897095, 0.6783680319786072], 123),\n ([-1.821001648902893, 0.8904606103897095, 0.6783680319786072], 123),\n ([-1.821001648902893, 0.8904606103897095, 0.6783680319786072], 123),\n ([-1.821001648902893, 0.8904606103897095, 0.6783680319786072], 123)]"
     },
     "execution_count": 110,
     "metadata": {},
     "output_type": "execute_result"
    }
   ],
   "source": [
    "def get_polarity(sentence):\n",
    "    return [str(val) for val in list(model(tokenizer.encode(sentence, return_tensors='tf'))[0][0].numpy())]\n",
    "\n",
    "batch_max_size=32\n",
    "def get_polarity_batch(batch,batch_max_size=32):\n",
    "    polarities=list(get_polarity_batch_yield([entry[0] for entry in batch],batch_max_size))\n",
    "    dates = [entry[1] for entry in batch]\n",
    "    results = [(p,d) for d,p in zip(dates,polarities)]\n",
    "    return results\n",
    "\n",
    "def get_polarity_batch_yield(batch,batch_max_size=4):\n",
    "    batch_size = len(batch)\n",
    "    min=0\n",
    "    max=batch_max_size\n",
    "    while(min<batch_size):\n",
    "        if max>=batch_size:\n",
    "            max=batch_size-1\n",
    "        for result in list(model(\n",
    "            tokenizer.batch_encode_plus(\n",
    "                batch[min:max],\n",
    "                padding=True,\n",
    "                truncation=True,\n",
    "                return_attention_mask=True,\n",
    "                max_length=64,\n",
    "                return_tensors='tf'\n",
    "            ))[0]):\n",
    "            yield result.numpy().tolist()\n",
    "        min+=batch_max_size\n",
    "        max+=batch_max_size\n",
    "texts = [(\"Hello, how are you?\",123) for i in range(12)]\n",
    "abc=list(get_polarity_batch(texts))\n",
    "abc"
   ],
   "metadata": {
    "collapsed": false,
    "pycharm": {
     "name": "#%%\n"
    }
   }
  }
 ],
 "metadata": {
  "kernelspec": {
   "display_name": "Python 3",
   "language": "python",
   "name": "python3"
  },
  "language_info": {
   "codemirror_mode": {
    "name": "ipython",
    "version": 2
   },
   "file_extension": ".py",
   "mimetype": "text/x-python",
   "name": "python",
   "nbconvert_exporter": "python",
   "pygments_lexer": "ipython2",
   "version": "2.7.6"
  }
 },
 "nbformat": 4,
 "nbformat_minor": 0
}