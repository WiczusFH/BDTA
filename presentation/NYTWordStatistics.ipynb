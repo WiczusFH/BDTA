{
 "cells": [
  {
   "cell_type": "code",
   "execution_count": 1,
   "metadata": {
    "collapsed": true
   },
   "outputs": [],
   "source": [
    "import json\n",
    "from matplotlib import pyplot as plt\n",
    "import pandas as pd\n",
    "import calendar\n",
    "import numpy as np"
   ]
  },
  {
   "cell_type": "code",
   "execution_count": 2,
   "outputs": [],
   "source": [
    "exclude = [\"Is\",\"As\",\"The\",\"Of\",\"\", \"To\",\"In\",\"And\",\n",
    "           \"Will\",\"Was\",\"Be\",\"It\",\"Its\"\n",
    "           \"A\",\"That\",\"On\",\"From\",\"Said\",\"Are\", \"With\",\n",
    "           \"An\",\"At\",\"Also\",\"For\",\"One\",\"Two\", \"They\",\n",
    "           \"Not\", \"Been\",\"Has\",\"Have\",\"Up\",\"By\",\"Can\",\n",
    "           \"I\",\"You\",\"We\",\"They\",\"She\",\"He\",\"Them\", \"His\",\"Her\",\n",
    "           \"Your\",\"Yours\",\"Were\",\"Its\"\n",
    "           \"Hundred\",\"Thousand\",\"Million\",\"Trillion\",\n",
    "           \"Jan\",\"Feb\",\"Aug\",\"Dec\",\"400\",\"Since\",\"After\",\"Before\",\"Say\",\n",
    "           \"Added\",\"Near\",\"Far\",\"A\",\"An\",\"U\"]\n",
    "\n",
    "map_together = {\"Russian\":\"Russia\",\"Russias\":\"Russia\",\n",
    "                \"Ukrainian\":\"Ukraine\",\"Ukraines\":\"Ukraine\"}"
   ],
   "metadata": {
    "collapsed": false,
    "pycharm": {
     "name": "#%%\n"
    }
   }
  },
  {
   "cell_type": "code",
   "execution_count": 3,
   "outputs": [],
   "source": [
    "def clean(dataframe):\n",
    "    return dataframe[~dataframe['word'].isin(exclude)]\n",
    "def get_months(date_string):\n",
    "    return calendar.month_name[int(date_string[4:6])]"
   ],
   "metadata": {
    "collapsed": false,
    "pycharm": {
     "name": "#%%\n"
    }
   }
  },
  {
   "cell_type": "code",
   "execution_count": null,
   "outputs": [],
   "source": [
    "with open('../flat_files/nyt_map_reduce_month.json', 'r') as f:\n",
    "    map_reduce_by_month = json.load(f)\n",
    "with open('../flat_files/nyt_map_reduce_total.json', 'r') as f:\n",
    "    map_reduce_total = json.load(f)"
   ],
   "metadata": {
    "collapsed": false,
    "pycharm": {
     "name": "#%%\n"
    }
   }
  },
  {
   "cell_type": "code",
   "execution_count": null,
   "outputs": [],
   "source": [
    "total_df = pd.DataFrame([{'word': d['word'], 'count': d['count']} for d in map_reduce_total])\n",
    "total_df_filtered = clean(total_df)\n",
    "for key,value in map_together.items():\n",
    "    total_df_filtered = total_df_filtered.replace(key,value)\n",
    "\n",
    "total_df_filtered = total_df_filtered.groupby('word').sum().reset_index()\n",
    "\n",
    "top_20_total_df = total_df_filtered.sort_values('count',ascending=False).head(20)\n",
    "plt.bar(top_20_total_df['word'], top_20_total_df['count'])\n",
    "plt.xticks(rotation=90)\n",
    "plt.xlabel('Word')\n",
    "plt.ylabel('Count')\n",
    "plt.title('Word Count In Year 2022')\n",
    "plt.show()"
   ],
   "metadata": {
    "collapsed": false,
    "pycharm": {
     "name": "#%%\n"
    }
   }
  }
 ],
 "metadata": {
  "kernelspec": {
   "display_name": "Python 3",
   "language": "python",
   "name": "python3"
  },
  "language_info": {
   "codemirror_mode": {
    "name": "ipython",
    "version": 2
   },
   "file_extension": ".py",
   "mimetype": "text/x-python",
   "name": "python",
   "nbconvert_exporter": "python",
   "pygments_lexer": "ipython2",
   "version": "2.7.6"
  }
 },
 "nbformat": 4,
 "nbformat_minor": 0
}